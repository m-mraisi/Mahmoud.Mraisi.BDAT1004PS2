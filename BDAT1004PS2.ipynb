{
 "cells": [
  {
   "cell_type": "markdown",
   "metadata": {},
   "source": [
    "# Name & ID: Mahmoud Mraisi - 200510888"
   ]
  },
  {
   "cell_type": "markdown",
   "metadata": {},
   "source": [
    "## Q1"
   ]
  },
  {
   "cell_type": "code",
   "execution_count": 28,
   "metadata": {},
   "outputs": [],
   "source": [
    "a = 0\n",
    "def b():\n",
    " global a\n",
    " a = c(a)\n",
    "def c(a):\n",
    " return a + 2"
   ]
  },
  {
   "cell_type": "code",
   "execution_count": 29,
   "metadata": {},
   "outputs": [
    {
     "data": {
      "text/plain": [
       "6"
      ]
     },
     "execution_count": 29,
     "metadata": {},
     "output_type": "execute_result"
    }
   ],
   "source": [
    "b()  \n",
    "'''by declaring the \"global a\" inside the funtion \"b\" \n",
    " this means the global varibel \"a = 0\" will be effected on \n",
    " every calculations made on it inside the b function. \n",
    " the \"a = c(a)\" will send in the global a to function c. \n",
    " inside funciton \"c\" which there will be with 2 --> (a+2); \n",
    " the funciton \"c\" will return a with the value 2 at first'''\n",
    "b() \n",
    "b()\n",
    "\n",
    "'''after calling b on the third time the \n",
    "'a' global varible will be 6 after excuting the funtion 3 times (((0+2) + 2) +2)'''\n",
    "a"
   ]
  },
  {
   "cell_type": "markdown",
   "metadata": {},
   "source": [
    "## Q2"
   ]
  },
  {
   "cell_type": "code",
   "execution_count": 30,
   "metadata": {},
   "outputs": [
    {
     "name": "stdout",
     "output_type": "stream",
     "text": [
      "File midterm.py not found.\n"
     ]
    }
   ],
   "source": [
    "\n",
    "    def file_length(file_name):\n",
    "        try:\n",
    "            file = open(file_name)\n",
    "            contents = file.read()\n",
    "            file.close()\n",
    "            print(len(contents))\n",
    "        except FileNotFoundError:\n",
    "            print(\"File {} not found.\".format(file_name))\n",
    "\n",
    "file_length('midterm.py')\n",
    "    "
   ]
  },
  {
   "cell_type": "markdown",
   "metadata": {},
   "source": [
    "## Q3"
   ]
  },
  {
   "cell_type": "code",
   "execution_count": 31,
   "metadata": {},
   "outputs": [
    {
     "name": "stdout",
     "output_type": "stream",
     "text": [
      "['doll', 'firetruck', 'kitten']\n"
     ]
    }
   ],
   "source": [
    "class Marsupial:\n",
    "    def __init__(self, animals = []):\n",
    "        self.animals = animals\n",
    "    def put_in_pouch(self, animal):\n",
    "        self.animals.append(animal)\n",
    "    def pouch_contents(self):\n",
    "        print(self.animals)\n",
    "m = Marsupial()\n",
    "m.put_in_pouch('doll')\n",
    "m.put_in_pouch('firetruck')\n",
    "m.put_in_pouch('kitten')\n",
    "m.pouch_contents()"
   ]
  },
  {
   "cell_type": "code",
   "execution_count": 32,
   "metadata": {},
   "outputs": [
    {
     "name": "stdout",
     "output_type": "stream",
     "text": [
      "I am a Kangaroo located at coordinates (0,0)\n"
     ]
    }
   ],
   "source": [
    "class Kangaroo(Marsupial):\n",
    "    def __init__(self, x, y, animals=[]):\n",
    "        self.x = x\n",
    "        self.y = y\n",
    "        Marsupial.__init__(self, animals)\n",
    "    def jump(self, dx, dy):\n",
    "        self.x = self.x + dx\n",
    "        self.y = self.y + dy\n",
    "    def __str__(self):\n",
    "        return 'I am a Kangaroo located at coordinates ({},{})'.format(self.x, self.y)\n",
    "\n",
    "    \n",
    "k = Kangaroo(0,0)\n",
    "print(k)"
   ]
  },
  {
   "cell_type": "code",
   "execution_count": 33,
   "metadata": {},
   "outputs": [
    {
     "name": "stdout",
     "output_type": "stream",
     "text": [
      "['doll', 'firetruck', 'kitten']\n"
     ]
    }
   ],
   "source": [
    "k.put_in_pouch('doll')\n",
    "k.put_in_pouch('firetruck')\n",
    "k.put_in_pouch('kitten')\n",
    "k.pouch_contents()"
   ]
  },
  {
   "cell_type": "code",
   "execution_count": 34,
   "metadata": {},
   "outputs": [
    {
     "name": "stdout",
     "output_type": "stream",
     "text": [
      "I am a Kangaroo located at coordinates (3,0)\n"
     ]
    }
   ],
   "source": [
    "k.jump(1,0)\n",
    "k.jump(1,0)\n",
    "k.jump(1,0)\n",
    "print(k)"
   ]
  },
  {
   "cell_type": "markdown",
   "metadata": {},
   "source": [
    "## Q4"
   ]
  },
  {
   "cell_type": "code",
   "execution_count": 35,
   "metadata": {},
   "outputs": [],
   "source": [
    "def collatz(x):\n",
    "    print(x)\n",
    "    if(x%2 == 0):\n",
    "        return collatz(x//2)\n",
    "    elif (x%2 != 0 and x != 1):\n",
    "        return collatz(3*x + 1)"
   ]
  },
  {
   "cell_type": "code",
   "execution_count": 36,
   "metadata": {},
   "outputs": [
    {
     "name": "stdout",
     "output_type": "stream",
     "text": [
      "1\n"
     ]
    }
   ],
   "source": [
    "collatz(1)"
   ]
  },
  {
   "cell_type": "code",
   "execution_count": 37,
   "metadata": {},
   "outputs": [
    {
     "name": "stdout",
     "output_type": "stream",
     "text": [
      "10\n",
      "5\n",
      "16\n",
      "8\n",
      "4\n",
      "2\n",
      "1\n"
     ]
    }
   ],
   "source": [
    "collatz(10)"
   ]
  },
  {
   "cell_type": "markdown",
   "metadata": {},
   "source": [
    "## Q5"
   ]
  },
  {
   "cell_type": "code",
   "execution_count": 38,
   "metadata": {},
   "outputs": [],
   "source": [
    "def binary2(n):\n",
    "    n = abs(n)\n",
    "    if n == 0:\n",
    "        return '0'\n",
    "    else:\n",
    "        return binary2(n//2) + str(n%2)\n",
    "    \n",
    "def binary(n):\n",
    "    string = binary2(n)\n",
    "    if(len(string)>1):\n",
    "        string = string[1:]\n",
    "        return int(string)\n",
    "    else:\n",
    "        return int(string)"
   ]
  },
  {
   "cell_type": "code",
   "execution_count": 39,
   "metadata": {
    "scrolled": true
   },
   "outputs": [
    {
     "data": {
      "text/plain": [
       "0"
      ]
     },
     "execution_count": 39,
     "metadata": {},
     "output_type": "execute_result"
    }
   ],
   "source": [
    "binary(0)"
   ]
  },
  {
   "cell_type": "code",
   "execution_count": 40,
   "metadata": {},
   "outputs": [
    {
     "data": {
      "text/plain": [
       "1"
      ]
     },
     "execution_count": 40,
     "metadata": {},
     "output_type": "execute_result"
    }
   ],
   "source": [
    "binary(1)"
   ]
  },
  {
   "cell_type": "code",
   "execution_count": 41,
   "metadata": {},
   "outputs": [
    {
     "data": {
      "text/plain": [
       "11"
      ]
     },
     "execution_count": 41,
     "metadata": {},
     "output_type": "execute_result"
    }
   ],
   "source": [
    "binary(3)"
   ]
  },
  {
   "cell_type": "code",
   "execution_count": 42,
   "metadata": {},
   "outputs": [
    {
     "data": {
      "text/plain": [
       "1001"
      ]
     },
     "execution_count": 42,
     "metadata": {},
     "output_type": "execute_result"
    }
   ],
   "source": [
    "binary(9)"
   ]
  },
  {
   "cell_type": "markdown",
   "metadata": {},
   "source": [
    "## Q6"
   ]
  },
  {
   "cell_type": "code",
   "execution_count": 43,
   "metadata": {},
   "outputs": [],
   "source": [
    "from html.parser import HTMLParser\n",
    "class HeadingParser(HTMLParser):\n",
    "    def __init__(self):\n",
    "        HTMLParser.__init__(self)\n",
    "        self.t = None\n",
    "    def handle_starttag(self, tag, attrs):\n",
    "        if(tag == 'h1'):\n",
    "            self.t = tag\n",
    "        elif(tag == 'h2'):\n",
    "            self.t = tag\n",
    "    def handle_data(self, data):\n",
    "        if(self.t == 'h1'):\n",
    "            print(data.strip())\n",
    "        elif(self.t == 'h2'):\n",
    "            print(\" \" , data.strip())"
   ]
  },
  {
   "cell_type": "code",
   "execution_count": 44,
   "metadata": {},
   "outputs": [
    {
     "name": "stdout",
     "output_type": "stream",
     "text": [
      "W3C Mission\n",
      "\n",
      "  Principles\n",
      "  \n",
      "  \n"
     ]
    }
   ],
   "source": [
    "infile = open('w3c.html')\n",
    "content = infile.read()\n",
    "infile.close()\n",
    "hp = HeadingParser()\n",
    "hp.feed(content)"
   ]
  },
  {
   "cell_type": "markdown",
   "metadata": {},
   "source": [
    "## Q7"
   ]
  },
  {
   "cell_type": "code",
   "execution_count": 5,
   "metadata": {},
   "outputs": [],
   "source": [
    "from urllib.request import urlopen\n",
    "from urllib.parse import urljoin\n",
    "from re import findall\n",
    "from html.parser import HTMLParser\n",
    "import textwrap\n",
    "\n",
    "visited = set()\n",
    "\n",
    "class Collector(HTMLParser):\n",
    "    \"collects hyperlink URLs into a list\"\n",
    "\n",
    "    def __init__(self, url):\n",
    "        \"initializes parser, the url, and a list\"\n",
    "        HTMLParser.__init__(self)\n",
    "        self.url = url\n",
    "        self.links = []\n",
    "\n",
    "    def handle_starttag(self, tag, attrs):\n",
    "        \"collects hyperlink URLs in their absolute format\"\n",
    "        if tag == \"a\":\n",
    "            for attr in attrs:\n",
    "                if attr[0] == \"href\":\n",
    "                    # construct absolute URL\n",
    "                    absolute = urljoin(self.url, attr[1])\n",
    "                    if absolute[:4] == \"http\":  # collect HTTP URLs\n",
    "                        self.links.append(absolute)\n",
    "\n",
    "    def getLinks(self):\n",
    "        \"returns hyperlinks URLs in their absolute format\"\n",
    "        return self.links\n"
   ]
  },
  {
   "cell_type": "code",
   "execution_count": 6,
   "metadata": {},
   "outputs": [],
   "source": [
    "def analyze(url, ident):\n",
    "\n",
    "    # obtain links in the web page\n",
    "    content = urlopen(url).read().decode()\n",
    "    collector = Collector(url)\n",
    "    collector.feed(content)\n",
    "    urls = collector.getLinks()  # get list of links\n",
    "\n",
    "    # print the http links found in web page\n",
    "    print(\"\\n{:45}\".format(url))\n",
    "    for link in urls:\n",
    "        print(\"\\n{:10}\".format(textwrap.indent(link, ident* '    ')))\n",
    "\n",
    "    return urls\n"
   ]
  },
  {
   "cell_type": "code",
   "execution_count": 7,
   "metadata": {},
   "outputs": [],
   "source": [
    "\n",
    "def crawl2(url, ident):\n",
    "    \"\"\"a recursive web crawler that calls analyze()\n",
    "    on every visited web page\"\"\"\n",
    "\n",
    "    # add url to set of visited pages\n",
    "    global visited  # warns the programmer\n",
    "    visited.add(url)\n",
    "\n",
    "    # analyze() returns a list of hyperlink URLs in web page url\n",
    "    links = analyze(url, ident)\n",
    "\n",
    "    # recursively continue crawl from every link in links\n",
    "    for link in links:\n",
    "        # follow link only if not visited\n",
    "        if link not in visited:\n",
    "            try:\n",
    "                crawl2(link)\n",
    "            except:\n",
    "                pass"
   ]
  },
  {
   "cell_type": "code",
   "execution_count": 8,
   "metadata": {},
   "outputs": [
    {
     "name": "stdout",
     "output_type": "stream",
     "text": [
      "\n",
      "http://reed.cs.depaul.edu/lperkovic/test1.html\n",
      "\n",
      "        http://reed.cs.depaul.edu/lperkovic/test2.html\n",
      "\n",
      "        http://reed.cs.depaul.edu/lperkovic/test3.html\n"
     ]
    }
   ],
   "source": [
    "crawl2(\"http://reed.cs.depaul.edu/lperkovic/test1.html\", 2)"
   ]
  },
  {
   "cell_type": "markdown",
   "metadata": {},
   "source": [
    "## Q8"
   ]
  },
  {
   "cell_type": "code",
   "execution_count": 49,
   "metadata": {},
   "outputs": [
    {
     "data": {
      "text/plain": [
       "<sqlite3.Cursor at 0x7fbc36512880>"
      ]
     },
     "execution_count": 49,
     "metadata": {},
     "output_type": "execute_result"
    }
   ],
   "source": [
    "import sqlite3\n",
    "con = sqlite3.connect('web.db')\n",
    "cur = con.cursor()\n",
    "cur.execute(\"CREATE TABLE IF NOT EXISTS Forecast (City text, Country text, Season text, Temperature float,  Rainfall float)\")"
   ]
  },
  {
   "cell_type": "code",
   "execution_count": 50,
   "metadata": {},
   "outputs": [
    {
     "ename": "OperationalError",
     "evalue": "database is locked",
     "output_type": "error",
     "traceback": [
      "\u001b[0;31m---------------------------------------------------------------------------\u001b[0m",
      "\u001b[0;31mOperationalError\u001b[0m                          Traceback (most recent call last)",
      "\u001b[0;32m<ipython-input-50-ae98e7147bec>\u001b[0m in \u001b[0;36m<module>\u001b[0;34m\u001b[0m\n\u001b[0;32m----> 1\u001b[0;31m \u001b[0mcur\u001b[0m\u001b[0;34m.\u001b[0m\u001b[0mexecute\u001b[0m\u001b[0;34m(\u001b[0m\u001b[0;34m\"INSERT INTO Forecast VALUES ('Mumbai', 'India', 'Winter',24.8, 5.9)\"\u001b[0m\u001b[0;34m)\u001b[0m\u001b[0;34m\u001b[0m\u001b[0;34m\u001b[0m\u001b[0m\n\u001b[0m\u001b[1;32m      2\u001b[0m \u001b[0mcur\u001b[0m\u001b[0;34m.\u001b[0m\u001b[0mexecute\u001b[0m\u001b[0;34m(\u001b[0m\u001b[0;34m\"INSERT INTO Forecast VALUES ('Mumbai', 'India', 'Spring',28.4 ,16.2 )\"\u001b[0m\u001b[0;34m)\u001b[0m\u001b[0;34m\u001b[0m\u001b[0;34m\u001b[0m\u001b[0m\n\u001b[1;32m      3\u001b[0m \u001b[0mcur\u001b[0m\u001b[0;34m.\u001b[0m\u001b[0mexecute\u001b[0m\u001b[0;34m(\u001b[0m\u001b[0;34m\"INSERT INTO Forecast VALUES ('Mumbai', 'India', 'Summer',27.9 , 1549.4 )\"\u001b[0m\u001b[0;34m)\u001b[0m\u001b[0;34m\u001b[0m\u001b[0;34m\u001b[0m\u001b[0m\n\u001b[1;32m      4\u001b[0m \u001b[0mcur\u001b[0m\u001b[0;34m.\u001b[0m\u001b[0mexecute\u001b[0m\u001b[0;34m(\u001b[0m\u001b[0;34m\"INSERT INTO Forecast VALUES ('Mumbai', 'India', 'Fall',27.6 , 346.0 )\"\u001b[0m\u001b[0;34m)\u001b[0m\u001b[0;34m\u001b[0m\u001b[0;34m\u001b[0m\u001b[0m\n\u001b[1;32m      5\u001b[0m \u001b[0mcur\u001b[0m\u001b[0;34m.\u001b[0m\u001b[0mexecute\u001b[0m\u001b[0;34m(\u001b[0m\u001b[0;34m\"INSERT INTO Forecast VALUES ('London', 'United Kingdom', 'Winter',4.2 , 207.7)\"\u001b[0m\u001b[0;34m)\u001b[0m\u001b[0;34m\u001b[0m\u001b[0;34m\u001b[0m\u001b[0m\n",
      "\u001b[0;31mOperationalError\u001b[0m: database is locked"
     ]
    }
   ],
   "source": [
    "cur.execute(\"INSERT INTO Forecast VALUES ('Mumbai', 'India', 'Winter',24.8, 5.9)\")\n",
    "cur.execute(\"INSERT INTO Forecast VALUES ('Mumbai', 'India', 'Spring',28.4 ,16.2 )\")\n",
    "cur.execute(\"INSERT INTO Forecast VALUES ('Mumbai', 'India', 'Summer',27.9 , 1549.4 )\")\n",
    "cur.execute(\"INSERT INTO Forecast VALUES ('Mumbai', 'India', 'Fall',27.6 , 346.0 )\")\n",
    "cur.execute(\"INSERT INTO Forecast VALUES ('London', 'United Kingdom', 'Winter',4.2 , 207.7)\")\n",
    "cur.execute(\"INSERT INTO Forecast VALUES ('London', 'United Kingdom', 'Spring',8.3 , 169.6)\")\n",
    "cur.execute(\"INSERT INTO Forecast VALUES ('London', 'United Kingdom', 'Summer',15.7 , 157.0)\")\n",
    "cur.execute(\"INSERT INTO Forecast VALUES ('London', 'United Kingdom', 'Fall',10.4 , 218.5)\")\n",
    "cur.execute(\"INSERT INTO Forecast VALUES ('Cairo', 'Egypt', 'Winter',13.6 , 16.5)\")\n",
    "cur.execute(\"INSERT INTO Forecast VALUES ('Cairo', 'Egypt', 'Spring',20.7 , 6.5)\")\n",
    "cur.execute(\"INSERT INTO Forecast VALUES ('Cairo', 'Egypt', 'Summer',27.7 , 0.1)\")\n",
    "cur.execute(\"INSERT INTO Forecast VALUES ('Cairo', 'Egypt', 'Fall',22.2 , 4.5)\")"
   ]
  },
  {
   "cell_type": "code",
   "execution_count": null,
   "metadata": {},
   "outputs": [],
   "source": [
    "con = sqlite3.connect('web.db')\n",
    "cur = con.cursor()\n",
    "cur.execute('SELECT * FROM ForeCast')\n",
    "cur.fetchall()"
   ]
  },
  {
   "cell_type": "markdown",
   "metadata": {},
   "source": [
    "## Answers of Q8"
   ]
  },
  {
   "cell_type": "code",
   "execution_count": null,
   "metadata": {},
   "outputs": [],
   "source": [
    "%%sql\n",
    "SELECT Temperature FROM TableName"
   ]
  },
  {
   "cell_type": "code",
   "execution_count": null,
   "metadata": {},
   "outputs": [],
   "source": [
    "%%sql\n",
    "SELECT DISTINCT City FROM TableName"
   ]
  },
  {
   "cell_type": "code",
   "execution_count": null,
   "metadata": {},
   "outputs": [],
   "source": [
    "%%sql\n",
    "SELECT * FROM TableName WHERE City = 'India'"
   ]
  },
  {
   "cell_type": "code",
   "execution_count": null,
   "metadata": {},
   "outputs": [],
   "source": [
    "%%sql\n",
    "SELECT * FROM TableName WHERE Season = 'Fall'"
   ]
  },
  {
   "cell_type": "code",
   "execution_count": null,
   "metadata": {},
   "outputs": [],
   "source": [
    "%%sql\n",
    "SELECT City, Country, Season FROM TableName WHERE Temperature between 200 and 400"
   ]
  },
  {
   "cell_type": "code",
   "execution_count": null,
   "metadata": {},
   "outputs": [],
   "source": [
    "%%sql \n",
    "SELECT City, Country FROM TableName WHERE AVG(Temperature) > 200 and Season = 'Fall'\n",
    "ORDER BY Temperature ASC"
   ]
  },
  {
   "cell_type": "code",
   "execution_count": null,
   "metadata": {},
   "outputs": [],
   "source": [
    "%%sql\n",
    "SELECT SUM(Rainfall) AS TotalAnnual FROM TableName WHERE City = 'Cairo'"
   ]
  },
  {
   "cell_type": "code",
   "execution_count": null,
   "metadata": {},
   "outputs": [],
   "source": [
    "%%sql\n",
    "SELECT SUM(Rainfall) AS TotalAnnual FROM TableName WHERE City = 'Cairo'"
   ]
  },
  {
   "cell_type": "code",
   "execution_count": null,
   "metadata": {},
   "outputs": [],
   "source": [
    "%%sql\n",
    "SELECT SUM(Rainfall) AS TotalAnnual FROM TableName\n",
    "GROUP BY Season"
   ]
  },
  {
   "cell_type": "markdown",
   "metadata": {},
   "source": [
    "## Q9"
   ]
  },
  {
   "cell_type": "code",
   "execution_count": 52,
   "metadata": {},
   "outputs": [],
   "source": [
    " words = ['The', 'quick', 'brown', 'fox', 'jumps', 'over',\n",
    "'the', 'lazy', 'dog']"
   ]
  },
  {
   "cell_type": "code",
   "execution_count": 53,
   "metadata": {},
   "outputs": [
    {
     "data": {
      "text/plain": [
       "['THE', 'QUICK', 'BROWN', 'FOX', 'JUMPS', 'OVER', 'THE', 'LAZY', 'DOG']"
      ]
     },
     "execution_count": 53,
     "metadata": {},
     "output_type": "execute_result"
    }
   ],
   "source": [
    "a = [word.upper() for word in words]\n",
    "a"
   ]
  },
  {
   "cell_type": "code",
   "execution_count": 54,
   "metadata": {},
   "outputs": [
    {
     "data": {
      "text/plain": [
       "['the', 'quick', 'brown', 'fox', 'jumps', 'over', 'the', 'lazy', 'dog']"
      ]
     },
     "execution_count": 54,
     "metadata": {},
     "output_type": "execute_result"
    }
   ],
   "source": [
    "b = [word.lower() for word in words]\n",
    "b"
   ]
  },
  {
   "cell_type": "code",
   "execution_count": 55,
   "metadata": {},
   "outputs": [
    {
     "data": {
      "text/plain": [
       "[3, 5, 5, 3, 5, 4, 3, 4, 3]"
      ]
     },
     "execution_count": 55,
     "metadata": {},
     "output_type": "execute_result"
    }
   ],
   "source": [
    "c = [len(word) for word in words]\n",
    "c"
   ]
  },
  {
   "cell_type": "code",
   "execution_count": 56,
   "metadata": {},
   "outputs": [
    {
     "data": {
      "text/plain": [
       "[['THE', 'the', 3],\n",
       " ['QUICK', 'quick', 5],\n",
       " ['BROWN', 'brown', 5],\n",
       " ['FOX', 'fox', 3],\n",
       " ['JUMPS', 'jumps', 5],\n",
       " ['OVER', 'over', 4],\n",
       " ['THE', 'the', 3],\n",
       " ['LAZY', 'lazy', 4],\n",
       " ['DOG', 'dog', 3]]"
      ]
     },
     "execution_count": 56,
     "metadata": {},
     "output_type": "execute_result"
    }
   ],
   "source": [
    "d = [[word.upper(), word.lower(), len(word)] for word in words]\n",
    "d"
   ]
  },
  {
   "cell_type": "code",
   "execution_count": 57,
   "metadata": {},
   "outputs": [
    {
     "data": {
      "text/plain": [
       "['quick', 'brown', 'jumps', 'over', 'lazy']"
      ]
     },
     "execution_count": 57,
     "metadata": {},
     "output_type": "execute_result"
    }
   ],
   "source": [
    "e = [word for word in words if len(word) >= 4] \n",
    "## the list of words in list words containing 4 or more characters\n",
    "e"
   ]
  },
  {
   "cell_type": "code",
   "execution_count": null,
   "metadata": {},
   "outputs": [],
   "source": []
  }
 ],
 "metadata": {
  "kernelspec": {
   "display_name": "Python 3",
   "language": "python",
   "name": "python3"
  },
  "language_info": {
   "codemirror_mode": {
    "name": "ipython",
    "version": 3
   },
   "file_extension": ".py",
   "mimetype": "text/x-python",
   "name": "python",
   "nbconvert_exporter": "python",
   "pygments_lexer": "ipython3",
   "version": "3.7.6"
  }
 },
 "nbformat": 4,
 "nbformat_minor": 4
}
